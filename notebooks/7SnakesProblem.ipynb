{
 "cells": [
  {
   "cell_type": "code",
   "execution_count": 1,
   "metadata": {},
   "outputs": [],
   "source": [
    "import networkx as nx\n",
    "import numpy as np\n",
    "import matplotlib\n",
    "import matplotlib.pyplot as plt\n",
    "\n",
    "\n",
    "def gen_graph(board):\n",
    "    \"\"\"\n",
    "    Converts a matrix to graph when the vertices only can be conected to \n",
    "    cells on TOP, BOTTOM, LEFT or RIGHT\n",
    "    \"\"\"\n",
    "    G = nx.Graph()\n",
    "    x, y = board.shape\n",
    "    G.add_nodes_from(list(range(1,(x*y)+1)))\n",
    "    for i in range(x):\n",
    "        for j in range(y):\n",
    "            vertice_id = ((i*y) + j) + 1\n",
    "            ix = i+1\n",
    "            jy = j+1\n",
    "            G.nodes[vertice_id]['ignore'] = False\n",
    "            G.nodes[vertice_id]['label'] = \"{},{}\".format(ix,jy)\n",
    "            G.nodes[vertice_id]['index'] = \"{},{}\".format(i,j)\n",
    "            G.nodes[vertice_id]['value'] = board[i,j]\n",
    "            if i-1 > -1:\n",
    "                pos_top = (((i-1)*y) + j) + 1\n",
    "                G.add_edge(vertice_id, pos_top, position='T')\n",
    "            if i+1 < x:\n",
    "                pos_bottom = (((i+1)*y) + j) + 1\n",
    "                G.add_edge(vertice_id, pos_bottom, position='B')\n",
    "            if j-1 > -1:\n",
    "                pos_left = ((i*y) + (j-1)) + 1\n",
    "                G.add_edge(vertice_id, pos_left, position='L')\n",
    "            if j+1 < y:\n",
    "                pos_right = ((i*y) + (j+1)) + 1\n",
    "                G.add_edge(vertice_id, pos_right, position='R')\n",
    "    return G\n",
    "\n",
    "\n",
    "def find_distinct_set(list_sets, new_set):\n",
    "    \"\"\"\n",
    "    Verify if an element in the new set is in any other set os the list_sets\n",
    "    \"\"\"\n",
    "    def happens_intersection(set1, set2):\n",
    "        for element in set1: \n",
    "            if element in set2:\n",
    "                return True\n",
    "        return False\n",
    "    # End of internal function happens_intersection\n",
    "    \n",
    "    for elem_set in list_sets:\n",
    "        if not happens_intersection(elem_set, new_set):\n",
    "            return elem_set\n",
    "    return None\n",
    "\n",
    "\n",
    "def search_snakes(graph, snake_size):\n",
    "    \"\"\"\n",
    "    Enumerate and search for the two snakes using a modified DFS algorithm.\n",
    "    \"\"\"\n",
    "    summ = {}\n",
    "    \n",
    "    def dfs_7snakes(graph, new_snake, vertice_id, val_sum, num_snake_piece, max_snake_size, dict_sum):\n",
    "        found = None\n",
    "        if num_snake_piece == max_snake_size:\n",
    "            #this_snake = new_snake | set([vertice_id])\n",
    "            if val_sum in dict_sum:\n",
    "                # Checks if exists other snake without overposition\n",
    "                other_snake = find_distinct_set(dict_sum[val_sum], new_snake)\n",
    "                if other_snake is not None:\n",
    "                    dict_sum[val_sum].append(new_snake)\n",
    "                    return other_snake, new_snake, val_sum\n",
    "                else:\n",
    "                    dict_sum[val_sum].append(new_snake)\n",
    "            else:                \n",
    "                dict_sum[val_sum] = [new_snake]\n",
    "            return None\n",
    "        \n",
    "        # Only no visited nodes to avoid snake loops itself\n",
    "        neighbors_to_go = set(list(graph.neighbors(vertice_id))) - new_snake\n",
    "\n",
    "        if len(neighbors_to_go) > 0:\n",
    "            for vertice in neighbors_to_go:\n",
    "                if not graph.nodes[vertice]['ignore']:\n",
    "                    found = dfs_7snakes(graph, (new_snake | set([vertice])), vertice, (val_sum + graph.nodes[vertice]['value']), num_snake_piece + 1, max_snake_size, dict_sum)\n",
    "                    if found is not None:\n",
    "                        return found\n",
    "        return found\n",
    "    # End of internal function dfs_7snakes\n",
    "    \n",
    "    for vertice in graph.nodes:\n",
    "        pair = dfs_7snakes(graph, set([vertice]), vertice, graph.nodes[vertice]['value'], 1, snake_size, summ)\n",
    "        if pair is not None:\n",
    "            return pair\n",
    "        else:\n",
    "            graph.nodes[vertice]['ignore'] = True\n",
    "    return pair\n",
    "\n",
    "\n",
    "def decode_coord_label(graph, board, pair):\n",
    "    \"\"\"\n",
    "    Converts the pair ids in graph to pairs of coordinates in matrix from the key label.\n",
    "    \"\"\"\n",
    "    snake1, snake2, summation = pair\n",
    "    coord_snake1 = []\n",
    "    coord_snake2 = []    \n",
    "    for vertice_id in snake1:\n",
    "        coord = graph.nodes[vertice_id]['label'].split(\",\")\n",
    "        coord_snake1.append((int(coord[0]),int(coord[1])))\n",
    "\n",
    "    for vertice_id in snake2:\n",
    "        coord = graph.nodes[vertice_id]['label'].split(\",\")\n",
    "        coord_snake2.append((int(coord[0]),int(coord[1])))\n",
    "\n",
    "    return coord_snake1, coord_snake2, summation\n",
    "\n",
    "\n",
    "def map_snakes_matrix(graph, board, pair):\n",
    "    bd = np.zeros(board.shape)\n",
    "    bd_plot = np.zeros(board.shape)\n",
    "    snake1, snake2, summ = pair\n",
    "    for vertice_id in snake1:\n",
    "        coord = graph.nodes[vertice_id]['index'].split(\",\")\n",
    "        bd[int(coord[0]),int(coord[1])] = board[int(coord[0]),int(coord[1])]\n",
    "        bd_plot[int(coord[0]),int(coord[1])] = 10\n",
    "\n",
    "    for vertice_id in snake2:\n",
    "        coord = graph.nodes[vertice_id]['index'].split(\",\")\n",
    "        bd[int(coord[0]),int(coord[1])] = board[int(coord[0]),int(coord[1])]\n",
    "        bd_plot[int(coord[0]),int(coord[1])] = 100\n",
    "\n",
    "    return bd, bd_plot\n",
    "\n",
    "\n",
    "def check_sum(graph, pair):\n",
    "    \"\"\"\n",
    "    Check if the sum in the cells for both snakes are the same.\n",
    "    \"\"\"\n",
    "    sum_snake1 = 0\n",
    "    sum_snake2 = 0\n",
    "    snake1, snake2, summ = pair\n",
    "    for vertice_id in snake1:\n",
    "        sum_snake1 += graph.nodes[vertice_id]['value']\n",
    "    for vertice_id in snake2:\n",
    "        sum_snake2 += graph.nodes[vertice_id]['value']\n",
    "\n",
    "    if sum_snake1 == sum_snake2 and sum_snake1 == summ:\n",
    "        return True\n",
    "    else:\n",
    "        print(sum_snake1)\n",
    "        print(sum_snake2)\n",
    "        print(summ)    \n",
    "        return False\n",
    "\n",
    "def plot_snakes_board(board):\n",
    "    plt.clf()\n",
    "    #https://stackoverflow.com/questions/19586828/drawing-grid-pattern-in-matplotlib\n",
    "    data = np.ones((board.shape)) * np.nan\n",
    "    x, y = board.shape\n",
    "    for i in range(x):\n",
    "        for j in range(y):\n",
    "            if board[i,j]:\n",
    "                data[i,j] = board[i,j]\n",
    "                   \n",
    "    # make a figure + axes\n",
    "    fig, ax = plt.subplots(1, 1, tight_layout=True)\n",
    "    # make color map\n",
    "    my_cmap = matplotlib.colors.ListedColormap(['r', 'g', 'b'])\n",
    "    # set the 'bad' values (nan) to be white and transparent\n",
    "    my_cmap.set_bad(color='w', alpha=0)\n",
    "    # draw the grid\n",
    "    for i in range(x + 1):\n",
    "        ax.axhline(i, lw=2, color='k', zorder=5)\n",
    "        ax.axvline(i, lw=2, color='k', zorder=5)\n",
    "    # draw the boxes\n",
    "    ax.imshow(data, interpolation='none', cmap=my_cmap, extent=[0, x, 0, x], zorder=0)\n",
    "    # turn off the axis labels\n",
    "    ax.axis('off')\n",
    "    plt.show()"
   ]
  },
  {
   "cell_type": "code",
   "execution_count": 2,
   "metadata": {},
   "outputs": [
    {
     "name": "stdout",
     "output_type": "stream",
     "text": [
      "[[201 160  69 186  96]\n",
      " [162   4 232  55 244]\n",
      " [241  64 196 244  35]\n",
      " [ 55 137 219  93 122]\n",
      " [212 168  86 200 101]]\n"
     ]
    }
   ],
   "source": [
    "board5x5 = np.loadtxt('board5x5_01.csv', delimiter=',', dtype='int')\n",
    "board10x10 = np.loadtxt('board10x10_01.csv', delimiter=',', dtype='int')\n",
    "board20x20 = np.loadtxt('board20x20_01.csv', delimiter=',', dtype='int')\n",
    "print(board5x5)\n"
   ]
  },
  {
   "cell_type": "code",
   "execution_count": 3,
   "metadata": {},
   "outputs": [],
   "source": [
    "graph_board = gen_graph(board5x5)\n",
    "graph_board10x10 = gen_graph(board10x10)\n",
    "graph_board20x20 = gen_graph(board20x20)\n"
   ]
  },
  {
   "cell_type": "code",
   "execution_count": 4,
   "metadata": {},
   "outputs": [
    {
     "data": {
      "text/plain": [
       "{'ignore': False, 'index': '4,0', 'label': '5,1', 'value': 212}"
      ]
     },
     "execution_count": 4,
     "metadata": {},
     "output_type": "execute_result"
    }
   ],
   "source": [
    "graph_board.nodes[21]\n"
   ]
  },
  {
   "cell_type": "code",
   "execution_count": 5,
   "metadata": {},
   "outputs": [
    {
     "name": "stdout",
     "output_type": "stream",
     "text": [
      "{'ignore': False, 'label': '3,3', 'index': '2,2', 'value': 196}\n",
      "{'ignore': False, 'label': '2,3', 'index': '1,2', 'value': 232}\n",
      "{'ignore': False, 'label': '3,2', 'index': '2,1', 'value': 64}\n",
      "{'ignore': False, 'label': '4,3', 'index': '3,2', 'value': 219}\n",
      "{'ignore': False, 'label': '3,4', 'index': '2,3', 'value': 244}\n"
     ]
    }
   ],
   "source": [
    "print(graph_board.nodes[13])\n",
    "for nid in list(nx.all_neighbors(graph_board, 13)):\n",
    "    print(graph_board.nodes[nid])"
   ]
  },
  {
   "cell_type": "code",
   "execution_count": 6,
   "metadata": {},
   "outputs": [
    {
     "name": "stdout",
     "output_type": "stream",
     "text": [
      "{1, 2}\n",
      "{1, 2}\n"
     ]
    }
   ],
   "source": [
    "print(find_distinct_set([set([1,2]), set([3,4])], set([3,5])))\n",
    "print(find_distinct_set([set([1,2]), set([3,4])], set([5,6])))"
   ]
  },
  {
   "cell_type": "code",
   "execution_count": 7,
   "metadata": {},
   "outputs": [
    {
     "name": "stdout",
     "output_type": "stream",
     "text": [
      "{'ignore': False, 'label': '1,1', 'index': '0,0', 'value': 201}\n",
      "{'ignore': False, 'label': '1,2', 'index': '0,1', 'value': 160}\n",
      "{'ignore': False, 'label': '1,3', 'index': '0,2', 'value': 69}\n",
      "{'ignore': False, 'label': '1,5', 'index': '0,4', 'value': 96}\n",
      "{'ignore': False, 'label': '2,3', 'index': '1,2', 'value': 232}\n",
      "{'ignore': False, 'label': '2,4', 'index': '1,3', 'value': 55}\n",
      "{'ignore': False, 'label': '2,5', 'index': '1,4', 'value': 244}\n",
      "1057\n"
     ]
    }
   ],
   "source": [
    "summ = 0\n",
    "for i in [1, 2, 3, 5, 8, 9, 10]:\n",
    "    summ += graph_board.nodes[i]['value']\n",
    "    print(graph_board.nodes[i])\n",
    "    \n",
    "print(summ)"
   ]
  },
  {
   "cell_type": "code",
   "execution_count": 8,
   "metadata": {},
   "outputs": [
    {
     "name": "stdout",
     "output_type": "stream",
     "text": [
      "({16, 1, 17, 21, 6, 11, 12}, {2, 3, 19, 18, 8, 9, 14}, 1072)\n",
      "1072\n",
      "1072\n",
      "1072\n",
      "True\n"
     ]
    }
   ],
   "source": [
    "#check_sum(graph_board,[{1, 2, 3, 8, 13, 18, 19},{1, 2, 3, 8, 13, 18, 19},1062])\n",
    "pair = search_snakes(graph_board, 7)\n",
    "print(pair)\n",
    "print(check_sum(graph_board, pair))"
   ]
  },
  {
   "cell_type": "code",
   "execution_count": 9,
   "metadata": {},
   "outputs": [
    {
     "name": "stdout",
     "output_type": "stream",
     "text": [
      "1072\n",
      "1072\n",
      "1072\n",
      "True\n",
      "922\n",
      "922\n",
      "922\n",
      "True\n",
      "994\n",
      "994\n",
      "994\n",
      "True\n",
      "5x5: ([(4, 1), (1, 1), (4, 2), (5, 1), (2, 1), (3, 1), (3, 2)], [(1, 2), (1, 3), (4, 4), (4, 3), (2, 3), (2, 4), (3, 4)], 1072)\n",
      "10x10: ([(4, 2), (1, 1), (3, 1), (3, 2), (3, 3), (2, 1), (4, 1)], [(2, 6), (1, 2), (1, 3), (1, 4), (1, 5), (3, 6), (2, 5)], 922)\n",
      "20x20: ([(1, 1), (2, 1), (2, 2), (2, 3), (3, 1), (3, 2), (3, 3)], [(1, 2), (1, 3), (1, 4), (2, 4), (3, 4), (3, 5), (3, 6)], 994)\n"
     ]
    }
   ],
   "source": [
    "pair = search_snakes(graph_board, 7)\n",
    "print(check_sum(graph_board, pair))\n",
    "pair10x10 = search_snakes(graph_board10x10, 7)\n",
    "print(check_sum(graph_board10x10, pair10x10))\n",
    "pair20x20 = search_snakes(graph_board20x20, 7)\n",
    "print(check_sum(graph_board20x20, pair20x20))\n",
    "coords5x5 = decode_coord_label(graph_board, board5x5, pair)\n",
    "print(\"5x5: {}\".format(coords5x5)) # As the coordinates are given as sets, they are sorted\n",
    "coords10x10 = decode_coord_label(graph_board10x10, board10x10, pair10x10)\n",
    "print(\"10x10: {}\".format(coords10x10)) \n",
    "coords20x20 = decode_coord_label(graph_board20x20, board20x20, pair20x20)\n",
    "print(\"20x20: {}\".format(coords20x20)) "
   ]
  },
  {
   "cell_type": "code",
   "execution_count": 10,
   "metadata": {},
   "outputs": [],
   "source": [
    "pair10x10 = search_snakes(graph_board10x10, 7)"
   ]
  },
  {
   "cell_type": "code",
   "execution_count": 11,
   "metadata": {},
   "outputs": [
    {
     "name": "stdout",
     "output_type": "stream",
     "text": [
      "[[ 201.  160.   69.    0.    0.]\n",
      " [ 162.    0.  232.   55.    0.]\n",
      " [ 241.   64.    0.  244.    0.]\n",
      " [  55.  137.  219.   93.    0.]\n",
      " [ 212.    0.    0.    0.    0.]]\n"
     ]
    },
    {
     "data": {
      "text/plain": [
       "array([[  10.,  100.,  100.,    0.,    0.],\n",
       "       [  10.,    0.,  100.,  100.,    0.],\n",
       "       [  10.,   10.,    0.,  100.,    0.],\n",
       "       [  10.,   10.,  100.,  100.,    0.],\n",
       "       [  10.,    0.,    0.,    0.,    0.]])"
      ]
     },
     "execution_count": 11,
     "metadata": {},
     "output_type": "execute_result"
    }
   ],
   "source": [
    "bd, bd_plot = map_snakes_matrix(graph_board, board5x5, pair)\n",
    "print(bd)\n",
    "bd_plot"
   ]
  },
  {
   "cell_type": "code",
   "execution_count": 12,
   "metadata": {},
   "outputs": [
    {
     "data": {
      "text/plain": [
       "<matplotlib.figure.Figure at 0x1061f17f0>"
      ]
     },
     "metadata": {},
     "output_type": "display_data"
    },
    {
     "name": "stderr",
     "output_type": "stream",
     "text": [
      "/opt/intel/intelpython3/lib/python3.6/site-packages/matplotlib/figure.py:1743: UserWarning: This figure includes Axes that are not compatible with tight_layout, so its results might be incorrect.\n",
      "  warnings.warn(\"This figure includes Axes that are not \"\n"
     ]
    },
    {
     "data": {
      "image/png": "[encoded data removed]",
      "text/plain": [
       "<matplotlib.figure.Figure at 0x8153c2940>"
      ]
     },
     "metadata": {},
     "output_type": "display_data"
    }
   ],
   "source": [
    "plot_snakes_board(bd_plot)"
   ]
  },
  {
   "cell_type": "code",
   "execution_count": 13,
   "metadata": {},
   "outputs": [
    {
     "name": "stdout",
     "output_type": "stream",
     "text": [
      "{'ignore': True, 'label': '1,1', 'index': '0,0', 'value': 252}\n",
      "11\n",
      "{'ignore': False, 'label': '2,1', 'index': '1,0', 'value': 122}\n",
      "2\n",
      "{'ignore': False, 'label': '1,2', 'index': '0,1', 'value': 103}\n",
      ">\n",
      "{'ignore': False, 'label': '2,1', 'index': '1,0', 'value': 122}\n",
      "{'ignore': False, 'label': '1,2', 'index': '0,1', 'value': 103}\n"
     ]
    }
   ],
   "source": [
    "print(graph_board10x10.nodes[1])\n",
    "for nid in list(graph_board10x10.neighbors(1)):\n",
    "    print(nid)\n",
    "    print(graph_board10x10.nodes[nid])\n",
    "\n",
    "print(\">\")\n",
    "for nid in list(graph_board10x10.edges(1)):\n",
    "    print(graph_board10x10.nodes[nid[1]])\n",
    "\n",
    "#pos = nx.spring_layout(graph_board10x10)\n",
    "#nx.draw(graph_board10x10, with_labels=True)\n",
    "#plt.show()"
   ]
  },
  {
   "cell_type": "code",
   "execution_count": 14,
   "metadata": {},
   "outputs": [
    {
     "name": "stdout",
     "output_type": "stream",
     "text": [
      "[[  10.  100.  100.  100.  100.    0.    0.    0.    0.    0.]\n",
      " [  10.    0.    0.    0.  100.  100.    0.    0.    0.    0.]\n",
      " [  10.   10.   10.    0.    0.  100.    0.    0.    0.    0.]\n",
      " [  10.   10.    0.    0.    0.    0.    0.    0.    0.    0.]\n",
      " [   0.    0.    0.    0.    0.    0.    0.    0.    0.    0.]\n",
      " [   0.    0.    0.    0.    0.    0.    0.    0.    0.    0.]\n",
      " [   0.    0.    0.    0.    0.    0.    0.    0.    0.    0.]\n",
      " [   0.    0.    0.    0.    0.    0.    0.    0.    0.    0.]\n",
      " [   0.    0.    0.    0.    0.    0.    0.    0.    0.    0.]\n",
      " [   0.    0.    0.    0.    0.    0.    0.    0.    0.    0.]]\n",
      "({32, 1, 21, 22, 23, 11, 31}, {16, 2, 3, 4, 5, 26, 15}, 922)\n",
      "([(4, 2), (1, 1), (3, 1), (3, 2), (3, 3), (2, 1), (4, 1)], [(2, 6), (1, 2), (1, 3), (1, 4), (1, 5), (3, 6), (2, 5)], 922)\n"
     ]
    },
    {
     "data": {
      "text/plain": [
       "<matplotlib.figure.Figure at 0x81cb8b940>"
      ]
     },
     "metadata": {},
     "output_type": "display_data"
    },
    {
     "name": "stderr",
     "output_type": "stream",
     "text": [
      "/opt/intel/intelpython3/lib/python3.6/site-packages/matplotlib/figure.py:1743: UserWarning: This figure includes Axes that are not compatible with tight_layout, so its results might be incorrect.\n",
      "  warnings.warn(\"This figure includes Axes that are not \"\n"
     ]
    },
    {
     "data": {
      "image/png": "[encoded data removed]",
      "text/plain": [
       "<matplotlib.figure.Figure at 0x81cb8bd30>"
      ]
     },
     "metadata": {},
     "output_type": "display_data"
    }
   ],
   "source": [
    "bd, bd_plot10 = map_snakes_matrix(graph_board10x10, board10x10, pair10x10)\n",
    "print(bd_plot10)\n",
    "print(pair10x10)\n",
    "print(coords10x10)\n",
    "plot_snakes_board(bd_plot10)"
   ]
  },
  {
   "cell_type": "code",
   "execution_count": 15,
   "metadata": {},
   "outputs": [
    {
     "data": {
      "text/plain": [
       "<matplotlib.figure.Figure at 0x81cb84048>"
      ]
     },
     "metadata": {},
     "output_type": "display_data"
    },
    {
     "name": "stderr",
     "output_type": "stream",
     "text": [
      "/opt/intel/intelpython3/lib/python3.6/site-packages/matplotlib/figure.py:1743: UserWarning: This figure includes Axes that are not compatible with tight_layout, so its results might be incorrect.\n",
      "  warnings.warn(\"This figure includes Axes that are not \"\n"
     ]
    },
    {
     "data": {
      "image/png": "[encoded data removed]",
      "text/plain": [
       "<matplotlib.figure.Figure at 0x81d61bbe0>"
      ]
     },
     "metadata": {},
     "output_type": "display_data"
    }
   ],
   "source": [
    "bd, bd_plot20 = map_snakes_matrix(graph_board20x20, board20x20, pair20x20)\n",
    "plot_snakes_board(bd_plot20)"
   ]
  },
  {
   "cell_type": "code",
   "execution_count": 16,
   "metadata": {},
   "outputs": [],
   "source": [
    "np.savetxt('snakes_board5x5_01.csv', X=bd, delimiter=',', fmt='%d')\n",
    "np.savetxt('snakes_board10x10_01.csv', X=bd, delimiter=',', fmt='%d')\n",
    "np.savetxt('snakes_board20x20_01.csv', X=bd, delimiter=',', fmt='%d')"
   ]
  }
 ],
 "metadata": {
  "kernelspec": {
   "display_name": "Python 3",
   "language": "python",
   "name": "python3"
  },
  "language_info": {
   "codemirror_mode": {
    "name": "ipython",
    "version": 3
   },
   "file_extension": ".py",
   "mimetype": "text/x-python",
   "name": "python",
   "nbconvert_exporter": "python",
   "pygments_lexer": "ipython3",
   "version": "3.6.2"
  }
 },
 "nbformat": 4,
 "nbformat_minor": 2
}
