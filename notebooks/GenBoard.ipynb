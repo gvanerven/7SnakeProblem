{
 "cells": [
  {
   "cell_type": "code",
   "execution_count": 8,
   "metadata": {},
   "outputs": [],
   "source": [
    "import numpy as np\n"
   ]
  },
  {
   "cell_type": "code",
   "execution_count": 12,
   "metadata": {},
   "outputs": [],
   "source": [
    "np.random.seed(234)\n",
    "board5x5 = np.random.randint(low=1, high=257, size=(5, 5))\n",
    "np.random.seed(1245)\n",
    "board10x10 = np.random.randint(low=1, high=257, size=(10, 10))\n",
    "np.random.seed(1346)\n",
    "board20x20 = np.random.randint(low=1, high=257, size=(20, 20))"
   ]
  },
  {
   "cell_type": "code",
   "execution_count": 10,
   "metadata": {},
   "outputs": [
    {
     "data": {
      "text/plain": [
       "array([[252, 103, 166, 204, 132,  22,  33,  71, 173, 256],\n",
       "       [122, 212, 256, 117,  43,  23,  10, 140, 181,  74],\n",
       "       [  6,  99, 174, 159, 190, 251, 216, 223,  10, 155],\n",
       "       [160, 109,   8, 226,  51, 223, 235,  28, 234, 116],\n",
       "       [170,  73, 174,   9, 120,  82, 190,  56, 125,  38],\n",
       "       [141,  12, 139, 214,  35,  61,  51, 108,  61, 133],\n",
       "       [225,  80,  85,  14,  34,  89, 115, 182, 199,  15],\n",
       "       [135, 159, 246,  34, 144, 157,   6, 171, 176, 192],\n",
       "       [ 13, 117,  23,   7,  78, 161,  35, 248, 247, 141],\n",
       "       [104, 191, 215, 240, 241, 104,  24, 223, 245, 230]])"
      ]
     },
     "execution_count": 10,
     "metadata": {},
     "output_type": "execute_result"
    }
   ],
   "source": [
    "board10x10"
   ]
  },
  {
   "cell_type": "code",
   "execution_count": 13,
   "metadata": {},
   "outputs": [],
   "source": [
    "np.savetxt('board5x5_01.csv', X=board5x5, delimiter=',', fmt='%d')\n",
    "np.savetxt('board10x10_01.csv', X=board10x10, delimiter=',', fmt='%d')\n",
    "np.savetxt('board20x20_01.csv', X=board20x20, delimiter=',', fmt='%d')"
   ]
  }
 ],
 "metadata": {
  "kernelspec": {
   "display_name": "Python 3",
   "language": "python",
   "name": "python3"
  },
  "language_info": {
   "codemirror_mode": {
    "name": "ipython",
    "version": 3
   },
   "file_extension": ".py",
   "mimetype": "text/x-python",
   "name": "python",
   "nbconvert_exporter": "python",
   "pygments_lexer": "ipython3",
   "version": "3.6.2"
  }
 },
 "nbformat": 4,
 "nbformat_minor": 2
}
